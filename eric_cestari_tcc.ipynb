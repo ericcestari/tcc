{
 "cells": [
  {
   "cell_type": "markdown",
   "id": "d3f8f5c3",
   "metadata": {},
   "source": [
    "# Eric Cestari\n",
    "# TCC - Data Science & Analytics\n",
    "# Predição de churn em uma empresa de telecomunicações através de modelos de Machine Learning\n",
    "\n",
    "Dados https://community.ibm.com/accelerators/catalog/content/Telco-customer-churn\n",
    "\n",
    "Kaggle https://www.kaggle.com/code/enanne/telco-churn-analysis-and-modeling/notebook\n",
    "\n",
    "https://community.ibm.com/community/user/businessanalytics/blogs/steven-macko/2019/07/11/telco-customer-churn-1113"
   ]
  },
  {
   "cell_type": "markdown",
   "id": "e3f39a7d",
   "metadata": {},
   "source": [
    "Entendimento do estudo\n",
    "\n",
    "Esse trabalho objetiva explorar os dados relacionados ao churn rate de clientes de uma empresa e entender como estão dispostos, descrevendo quais as possíveis variáveis que podem ou não influenciar a fidelização ou não dos clientes, trabalhar os dados e prepara-los para então desenvolver quatro modelos diferentes de machine learning, definindo qual modelo apresenta a maior acuracidade de predição, se o cliente tem ou não risco de churn, para servir como tomada de decisão para gestores."
   ]
  },
  {
   "cell_type": "markdown",
   "id": "5a946983",
   "metadata": {},
   "source": [
    "1. Importando os dados\n",
    "2. Limpeza e pré-processamento dos dados\n",
    "3. Análise exploratória dos dados\n",
    "4. Preparação dos dados para modelos de machine learning\n",
    "5. Divisão dos dados em treino e teste\n",
    "6. Treinamento dos dados nos modelos de Machine Learning\n",
    "7. Avaliação de performance dos modelos"
   ]
  },
  {
   "cell_type": "markdown",
   "id": "adc8e1e0",
   "metadata": {},
   "source": [
    "## Importando as bibliotecas"
   ]
  },
  {
   "cell_type": "code",
   "execution_count": null,
   "id": "b9cac0e1",
   "metadata": {
    "scrolled": true
   },
   "outputs": [],
   "source": [
    "# Manipulação dos dados\n",
    "import pandas as pd\n",
    "# Para trabalhar com matrizes\n",
    "import numpy as np\n",
    "# Gráficos\n",
    "import seaborn as sns\n",
    "# Interface gráfica\n",
    "import matplotlib.pyplot as plt\n",
    "\n",
    "import mglearn\n",
    "\n",
    "# Pacotes para preparação dos dados\n",
    "from sklearn.model_selection import train_test_split\n",
    "from sklearn.preprocessing import LabelEncoder\n",
    "from sklearn.preprocessing import OneHotEncoder\n",
    "# from sklearn.preprocessing import StandardScaler\n",
    "\n",
    "# criação de modelos\n",
    "# import statsmodel as sm\n",
    "from sklearn.linear_model import LogisticRegression\n",
    "from sklearn.tree import DecisionTreeClassifier\n",
    "from sklearn.ensemble import RandomForestClassifier\n",
    "from xgboost import XGBClassifier\n",
    "from sklearn.tree import export_graphviz\n",
    "from sklearn.model_selection import KFold, cross_val_score\n",
    "\n",
    "# importância de features\n",
    "from sklearn.feature_selection import RFE\n",
    "\n",
    "# validação\n",
    "from sklearn import metrics\n",
    "from sklearn.tree import export_graphviz\n",
    "from sklearn.metrics import roc_curve, auc\n",
    "import graphviz\n",
    "\n",
    "# lazy predict\n",
    "import lazypredict\n",
    "from lazypredict.Supervised import LazyClassifier\n",
    "\n",
    "# Filtro de Warning\n",
    "from warnings import simplefilter\n",
    "\n",
    "# Ignorar warnings\n",
    "simplefilter(action='ignore', category=FutureWarning)"
   ]
  },
  {
   "cell_type": "code",
   "execution_count": null,
   "id": "115e3b2d",
   "metadata": {},
   "outputs": [],
   "source": [
    "\"\"\"from sklearn.feature_selection import RFE\n",
    "from sklearn.linear_model import LinearRegression\n",
    "\n",
    "# Importe os dados\n",
    "X = [[0, 0], [1, 1], [2, 2], [3, 3]]\n",
    "y = [0, 1, 2, 3]\n",
    "\n",
    "# Crie o modelo de regressão linear\n",
    "lr = LinearRegression()\n",
    "\n",
    "# Crie o objeto RFE e ajuste o modelo\n",
    "rfe = RFE(lr, n_features_to_select=1)\n",
    "rfe.fit(X, y)\n",
    "\n",
    "# Imprima o ranking das features\n",
    "print(\"Ranking das Features:\", rfe.ranking_)\"\"\""
   ]
  },
  {
   "cell_type": "markdown",
   "id": "ebdc2908",
   "metadata": {},
   "source": [
    "# 1. Importando os dados"
   ]
  },
  {
   "cell_type": "code",
   "execution_count": null,
   "id": "a8581bb7",
   "metadata": {},
   "outputs": [],
   "source": [
    "dados = pd.read_excel('data_churn.xlsx')"
   ]
  },
  {
   "cell_type": "markdown",
   "id": "8e1c08cf",
   "metadata": {},
   "source": [
    "## Entendendo os dados"
   ]
  },
  {
   "cell_type": "code",
   "execution_count": null,
   "id": "85bb2a00",
   "metadata": {},
   "outputs": [],
   "source": [
    "# Verificando a dimensão do DataFrame\n",
    "print('O DataFrame possui {} observações (linhas) e {} variáveis (colunas).\\n'.format(dados.shape[0], dados.shape[1]))"
   ]
  },
  {
   "cell_type": "code",
   "execution_count": null,
   "id": "72aa1b4e",
   "metadata": {},
   "outputs": [],
   "source": [
    "dados.info()"
   ]
  },
  {
   "cell_type": "code",
   "execution_count": null,
   "id": "6052378d",
   "metadata": {
    "scrolled": false
   },
   "outputs": [],
   "source": [
    "# Visualizar as 5 primeiras linhas\n",
    "dados.head(5)"
   ]
  },
  {
   "cell_type": "code",
   "execution_count": null,
   "id": "4dcdc174",
   "metadata": {},
   "outputs": [],
   "source": [
    "# Traduzindo o nome das variáveis originais do Inglês para o Português\n",
    "dados = dados.rename(columns={'CustomerID': 'IDUsuario', 'Count': 'Contagem', 'Country': 'Pais', 'State': 'Estado', 'City': 'Cidade',\n",
    "                              'Zip Code': 'CodigoPostal', 'Lat Long': 'LatLong', 'Latitude': 'Latitude', 'Longitude': 'Longitude',\n",
    "                              'Gender': 'Genero', 'Senior Citizen': 'Senior', 'Partner': 'Parceiro', 'Dependents': 'Dependentes',\n",
    "                              'Tenure Months': 'AssinaturaMeses', 'Phone Service': 'ServicoTelefonia', 'Multiple Lines': 'MultiplasLinhas',\n",
    "                              'Internet Service': 'ServicoInternet', 'Online Security': 'SegurancaOnline', 'Online Backup': 'BackupOnline',\n",
    "                              'Device Protection': 'ProtecaoDispositivo', 'Tech Support': 'SuporteTech', 'Streaming TV': 'StreamingTV',\n",
    "                              'Streaming Movies': 'StreamingFilmes', 'Contract': 'TipoContrato', 'Paperless Billing': 'FaturaSemPapel',\n",
    "                              'Payment Method': 'MetodoPagamento', 'Monthly Charges': 'CobrancasMensais', 'Total Charges': 'CobrancasTotais',\n",
    "                              'Churn Label': 'Churn', 'Churn Value': 'ValorChurn', 'Churn Score': 'PontuacaoChurn', 'CLTV': 'CLTV',\n",
    "                              'Churn Reason': 'MotivoChurn'})"
   ]
  },
  {
   "cell_type": "code",
   "execution_count": null,
   "id": "e1fd2614",
   "metadata": {
    "scrolled": false
   },
   "outputs": [],
   "source": [
    "dados.dtypes.value_counts()"
   ]
  },
  {
   "cell_type": "code",
   "execution_count": null,
   "id": "fe9080ad",
   "metadata": {
    "scrolled": false
   },
   "outputs": [],
   "source": [
    "dados.describe().round(2)"
   ]
  },
  {
   "cell_type": "markdown",
   "id": "8e99af30",
   "metadata": {},
   "source": [
    "Inicialmente, observei que existem poucas variáveis quantitativas no conjunto de dados"
   ]
  },
  {
   "cell_type": "markdown",
   "id": "32326872",
   "metadata": {},
   "source": [
    "# 2. Limpeza e pré-processamento dos dados"
   ]
  },
  {
   "cell_type": "code",
   "execution_count": null,
   "id": "080775b6",
   "metadata": {
    "scrolled": true
   },
   "outputs": [],
   "source": [
    "print('Dados faltantes \\n{}.'.format(dados.isnull().sum() / len(dados)))"
   ]
  },
  {
   "cell_type": "markdown",
   "id": "46035dc2",
   "metadata": {},
   "source": [
    "A variável 'CustomerID' não será importante para o modelo preditivo, uma vez que trata de um número único para cada cliente. Será deletada da base.\n",
    "Também foi identificado através do resumo que as variáveis 'Count', 'Country' e 'State' possuem apenas um valor único e não são relevantes para a análise. Portanto, irei excluí-las.\n",
    "Assumimos que o dataset traz informações de clientes dos Estados Unidos, especificamente da Calofornia."
   ]
  },
  {
   "cell_type": "code",
   "execution_count": null,
   "id": "fc3b35b1",
   "metadata": {},
   "outputs": [],
   "source": [
    "# As variáveis 'CustomerID', 'Count', 'Country', 'State' também não serão utilizadas as variáveis 'Zip Code', 'Lat Long', 'Latitude' e 'Longitude' não agregam valor a análise, portanto serão descartadas\n",
    "dados.drop(['IDUsuario', 'Contagem', 'Pais', 'Estado', 'CodigoPostal', 'LatLong', 'Latitude', 'Longitude'], inplace=True, axis=1)"
   ]
  },
  {
   "cell_type": "code",
   "execution_count": null,
   "id": "05e23af0",
   "metadata": {},
   "outputs": [],
   "source": [
    "# Também será descartada a variável 'Churn Label', pois já temos o mapeamento de churn feito na variável 'Churn Value' sendo 1 para churn e 0 para não churn\n",
    "#dados.drop(['Churn Label'], inplace=True, axis=1)"
   ]
  },
  {
   "cell_type": "code",
   "execution_count": null,
   "id": "db54328d",
   "metadata": {
    "scrolled": true
   },
   "outputs": [],
   "source": [
    "# Para mais detalhes do conjunto de dados\n",
    "dados.info()"
   ]
  },
  {
   "cell_type": "markdown",
   "id": "b48be964",
   "metadata": {},
   "source": [
    "A variável 'CobrancasTotais' está em formato 'object', será necessário transforma-la no tipo 'float' para dar andamento a analise"
   ]
  },
  {
   "cell_type": "code",
   "execution_count": null,
   "id": "6a2aa15a",
   "metadata": {},
   "outputs": [],
   "source": [
    "# Ao tentar transformar a variável 'Total Charges' que atualmente é um object em float, o Python retorna um erro\n",
    "dados['CobrancasTotais'].astype(float)"
   ]
  },
  {
   "cell_type": "code",
   "execution_count": null,
   "id": "d29ad8c8",
   "metadata": {},
   "outputs": [],
   "source": [
    "# Para transformar o valor vazio (\" \") em string para depois transformar em float, irei utilizar a seguinte função\n",
    "def string_para_float(entrada):\n",
    "    try:\n",
    "        return float(entrada)\n",
    "    except ValueError:\n",
    "        return np.nan"
   ]
  },
  {
   "cell_type": "code",
   "execution_count": null,
   "id": "d4e51437",
   "metadata": {},
   "outputs": [],
   "source": [
    "# Aplicando a função\n",
    "dados['CobrancasTotais'] = dados['CobrancasTotais'].apply(string_para_float)"
   ]
  },
  {
   "cell_type": "code",
   "execution_count": null,
   "id": "11dac4cb",
   "metadata": {},
   "outputs": [],
   "source": [
    "print('Dados faltantes em \"CobrancasTotais\" anteriormente: {}'.format(dados['CobrancasTotais'].isnull().sum()))"
   ]
  },
  {
   "cell_type": "code",
   "execution_count": null,
   "id": "463f36b0",
   "metadata": {},
   "outputs": [],
   "source": [
    "# Preencher dados faltantes com a média da variável\n",
    "Media_CobrancasTotais = dados['CobrancasTotais'].mean()\n",
    "dados['CobrancasTotais'].fillna(Media_CobrancasTotais, inplace=True)"
   ]
  },
  {
   "cell_type": "code",
   "execution_count": null,
   "id": "764164bd",
   "metadata": {},
   "outputs": [],
   "source": [
    "print('Dados faltantes em \"CobrancasTotais\" após a função: {}'.format(dados['CobrancasTotais'].isnull().sum()))"
   ]
  },
  {
   "cell_type": "code",
   "execution_count": null,
   "id": "3d53e372",
   "metadata": {},
   "outputs": [],
   "source": [
    "dados.isnull().sum()"
   ]
  },
  {
   "cell_type": "code",
   "execution_count": null,
   "id": "7bfe92db",
   "metadata": {},
   "outputs": [],
   "source": [
    "dados.isna().sum()"
   ]
  },
  {
   "cell_type": "code",
   "execution_count": null,
   "id": "82e1dfb7",
   "metadata": {
    "scrolled": false
   },
   "outputs": [],
   "source": [
    "# Função para identificar quais valores únicos e suas quantidades em cada variável\n",
    "\n",
    "def resumo(dados):\n",
    "    col = []\n",
    "    d_type = []\n",
    "    uniques = []\n",
    "    n_uniques = []\n",
    "    \n",
    "    for i in dados.columns:\n",
    "        col.append(i)\n",
    "        d_type.append(dados[i].dtypes)\n",
    "        uniques.append(dados[i].unique()[:5])\n",
    "        n_uniques.append(dados[i].nunique())\n",
    "    \n",
    "    return pd.DataFrame({'variavel': col, 'd_type': d_type, 'unico': uniques, 'quantidade': n_uniques})\n",
    "\n",
    "resumo(dados)"
   ]
  },
  {
   "cell_type": "code",
   "execution_count": null,
   "id": "ad8902a9",
   "metadata": {},
   "outputs": [],
   "source": [
    "# Com o objetivo de padronizar as variáveis, substitui \"No phone service\" por apenas \"No\"\n",
    "variaveis1 = ['MultiplasLinhas']\n",
    "\n",
    "for i in variaveis1:\n",
    "    dados[i] = dados[i].replace({\"No phone service\" : \"No\"})"
   ]
  },
  {
   "cell_type": "code",
   "execution_count": null,
   "id": "a1004ff0",
   "metadata": {},
   "outputs": [],
   "source": [
    "# Também com o objetivo de padronizar as variáveis, substitui \"No internet service\" por apenas \"No\"\n",
    "variaveis2 = ['SegurancaOnline', 'BackupOnline', 'ProtecaoDispositivo', 'SuporteTech', 'StreamingTV', 'StreamingFilmes']\n",
    "\n",
    "for i in variaveis2:\n",
    "    dados[i] = dados[i].replace({\"No internet service\" : \"No\"})"
   ]
  },
  {
   "cell_type": "code",
   "execution_count": null,
   "id": "f4cd6787",
   "metadata": {
    "scrolled": false
   },
   "outputs": [],
   "source": [
    "resumo(dados)"
   ]
  },
  {
   "cell_type": "markdown",
   "id": "9a91fba2",
   "metadata": {},
   "source": [
    "# 3. Análise exploratória dos dados"
   ]
  },
  {
   "cell_type": "code",
   "execution_count": null,
   "id": "a43f6a39",
   "metadata": {
    "scrolled": true
   },
   "outputs": [],
   "source": [
    "# Analisando apenas as variáveis categoricas\n",
    "dados.select_dtypes(include='object').describe()"
   ]
  },
  {
   "cell_type": "code",
   "execution_count": null,
   "id": "8d39b568",
   "metadata": {
    "scrolled": false
   },
   "outputs": [],
   "source": [
    "plt.figure(figsize=(8,6))\n",
    "sns.countplot(dados['Churn'], order=dados['Churn'].value_counts().index[::1])\n",
    "plt.title('Distribuição de Churn')\n",
    "plt.xlabel('Churn')\n",
    "plt.ylabel('Quantidade de clientes')\n",
    "plt.show()"
   ]
  },
  {
   "cell_type": "code",
   "execution_count": null,
   "id": "89b630a3",
   "metadata": {
    "scrolled": false
   },
   "outputs": [],
   "source": [
    "# Churn\n",
    "print('0 não churn e 1 churn\\n',(dados['Churn'].value_counts() / dados.shape[0] * 100).round(2))"
   ]
  },
  {
   "cell_type": "code",
   "execution_count": null,
   "id": "02d64774",
   "metadata": {
    "scrolled": true
   },
   "outputs": [],
   "source": [
    "# Analisando o churn por Cidade\n",
    "\"\"\"contract_churn = dados.groupby(['Cidade', 'Churn']).size().unstack()\n",
    "contract_churn.plot(kind='bar', stacked=True)\n",
    "plt.xlabel('Cidade')\n",
    "plt.ylabel('Número de Clientes')\n",
    "plt.title('Churn por Cidade')\n",
    "plt.show()\"\"\""
   ]
  },
  {
   "cell_type": "code",
   "execution_count": null,
   "id": "79d5698a",
   "metadata": {
    "scrolled": true
   },
   "outputs": [],
   "source": [
    "# gráfico de barras do churn por Gênero\n",
    "gender_churn = dados.groupby(['Genero', 'Churn'])['Churn'].count().unstack()\n",
    "gender_churn.plot(kind='bar', stacked=True)\n",
    "plt.title('Churn por gênero')\n",
    "plt.xlabel('Gênero')\n",
    "plt.ylabel('Contagem')\n",
    "plt.show()"
   ]
  },
  {
   "cell_type": "code",
   "execution_count": null,
   "id": "42f071ef",
   "metadata": {},
   "outputs": [],
   "source": [
    "frequencia_genero = dados['Genero'].value_counts()\n",
    "percentual_genero = dados['Genero'].value_counts(normalize = True)*100\n",
    "percentual_genero = pd.DataFrame({'Frequência': frequencia_genero, 'Porcentagem(%)': percentual_genero})\n",
    "percentual_genero"
   ]
  },
  {
   "cell_type": "code",
   "execution_count": null,
   "id": "bfb404b8",
   "metadata": {},
   "outputs": [],
   "source": [
    "# gráfico de barras do churn por Senior\n",
    "gender_churn = dados.groupby(['Senior', 'Churn'])['Churn'].count().unstack()\n",
    "gender_churn.plot(kind='bar', stacked=True)\n",
    "plt.title('Churn por Senior')\n",
    "plt.xlabel('Senior')\n",
    "plt.ylabel('Contagem')\n",
    "plt.show()"
   ]
  },
  {
   "cell_type": "code",
   "execution_count": null,
   "id": "5ef0df1d",
   "metadata": {},
   "outputs": [],
   "source": [
    "frequencia_senior = dados['Senior'].value_counts()\n",
    "percentual_senior = dados['Senior'].value_counts(normalize = True)*100\n",
    "percentual_senior = pd.DataFrame({'Frequência': frequencia_senior, 'Porcentagem(%)': percentual_senior})\n",
    "percentual_senior"
   ]
  },
  {
   "cell_type": "code",
   "execution_count": null,
   "id": "fe67594c",
   "metadata": {},
   "outputs": [],
   "source": [
    "# gráfico de barras do churn por Parceiro\n",
    "gender_churn = dados.groupby(['Parceiro', 'Churn'])['Churn'].count().unstack()\n",
    "gender_churn.plot(kind='bar', stacked=True)\n",
    "plt.title('Churn por Parceiro')\n",
    "plt.xlabel('Parceiro')\n",
    "plt.ylabel('Contagem')\n",
    "plt.show()"
   ]
  },
  {
   "cell_type": "code",
   "execution_count": null,
   "id": "9db1614e",
   "metadata": {},
   "outputs": [],
   "source": [
    "frequencia_parceiro = dados['Parceiro'].value_counts()\n",
    "percentual_parceiro = dados['Parceiro'].value_counts(normalize = True)*100\n",
    "percentual_parceiro = pd.DataFrame({'Frequência': frequencia_parceiro, 'Porcentagem(%)': percentual_parceiro})\n",
    "percentual_parceiro"
   ]
  },
  {
   "cell_type": "code",
   "execution_count": null,
   "id": "62d1c90f",
   "metadata": {
    "scrolled": false
   },
   "outputs": [],
   "source": [
    "# gráfico de barras do churn por Dependentes\n",
    "gender_churn = dados.groupby(['Dependentes', 'Churn'])['Churn'].count().unstack()\n",
    "gender_churn.plot(kind='bar', stacked=True)\n",
    "plt.title('Churn por Dependentes')\n",
    "plt.xlabel('Dependentes')\n",
    "plt.ylabel('Contagem')\n",
    "plt.show()"
   ]
  },
  {
   "cell_type": "code",
   "execution_count": null,
   "id": "fdbfa79e",
   "metadata": {},
   "outputs": [],
   "source": [
    "frequencia_dependentes = dados['Dependentes'].value_counts()\n",
    "percentual_dependentes = dados['Dependentes'].value_counts(normalize = True)*100\n",
    "percentual_dependentes = pd.DataFrame({'Frequência': frequencia_dependentes, 'Porcentagem(%)': percentual_dependentes})\n",
    "percentual_dependentes"
   ]
  },
  {
   "cell_type": "code",
   "execution_count": null,
   "id": "39f496f5",
   "metadata": {
    "scrolled": true
   },
   "outputs": [],
   "source": [
    "plt.figure(figsize=(8,6))\n",
    "sns.histplot(dados['AssinaturaMeses'], bins=30, kde=True)\n",
    "plt.title('Distribuição de AssinaturaMeses')\n",
    "plt.xlabel('AssinaturaMeses')\n",
    "plt.ylabel('Contagem')\n",
    "plt.show()"
   ]
  },
  {
   "cell_type": "code",
   "execution_count": null,
   "id": "106bf8ef",
   "metadata": {},
   "outputs": [],
   "source": [
    "f, ax = plt.subplots(3,3, figsize=(20,15))\n",
    "sns.countplot(dados['ServicoTelefonia'], ax=ax[0,0])\n",
    "sns.countplot(dados['MultiplasLinhas'], ax=ax[0,1])\n",
    "sns.countplot(dados['ServicoInternet'], ax=ax[0,2])\n",
    "sns.countplot(dados['SegurancaOnline'], ax=ax[1,0])\n",
    "sns.countplot(dados['BackupOnline'], ax=ax[1,1])\n",
    "sns.countplot(dados['ProtecaoDispositivo'], ax=ax[1,2])\n",
    "sns.countplot(dados['SuporteTech'], ax=ax[2,0])\n",
    "sns.countplot(dados['StreamingTV'], ax=ax[2,1])\n",
    "sns.countplot(dados['StreamingFilmes'], ax=ax[2,2])"
   ]
  },
  {
   "cell_type": "code",
   "execution_count": null,
   "id": "be547158",
   "metadata": {},
   "outputs": [],
   "source": [
    "# Analisando o churn por categoria de Contrato\n",
    "contract_churn = dados.groupby(['TipoContrato', 'Churn']).size().unstack()\n",
    "contract_churn.plot(kind='bar', stacked=True)\n",
    "plt.xlabel('Tipo de Contrato')\n",
    "plt.ylabel('Número de Clientes')\n",
    "plt.title('Churn por Tipo de Contrato')\n",
    "plt.show()"
   ]
  },
  {
   "cell_type": "code",
   "execution_count": null,
   "id": "8d1ede0e",
   "metadata": {
    "scrolled": false
   },
   "outputs": [],
   "source": [
    "frequencia_faturasempapel = dados['FaturaSemPapel'].value_counts()\n",
    "percentual_faturasempapel = dados['FaturaSemPapel'].value_counts(normalize = True)*100\n",
    "percentual_faturasempapel = pd.DataFrame({'Frequência': frequencia_faturasempapel, 'Porcentagem(%)': percentual_faturasempapel})\n",
    "percentual_faturasempapel"
   ]
  },
  {
   "cell_type": "code",
   "execution_count": null,
   "id": "d5955f29",
   "metadata": {},
   "outputs": [],
   "source": [
    "fig, (ax1,ax2,ax3) = plt.subplots(nrows=1, ncols=3, sharey = True, figsize = (20,6))\n",
    "\n",
    "ax = sns.distplot(dados[dados['TipoContrato']=='Month-to-month']['AssinaturaMeses'],\n",
    "                   hist=True, kde=False,\n",
    "                   bins=int(180/5), color = 'blue',\n",
    "                   hist_kws={'edgecolor':'black'},\n",
    "                   kde_kws={'linewidth': 4},\n",
    "                 ax=ax1)\n",
    "ax.set_ylabel('Quantidade de Clientes')\n",
    "ax.set_xlabel('Assinatura (meses)')\n",
    "ax.set_title('Contrato mês a mês')\n",
    "\n",
    "ax = sns.distplot(dados[dados['TipoContrato']=='One year']['AssinaturaMeses'],\n",
    "                   hist=True, kde=False,\n",
    "                   bins=int(180/5), color = 'orange',\n",
    "                   hist_kws={'edgecolor':'black'},\n",
    "                   kde_kws={'linewidth': 4},\n",
    "                 ax=ax2)\n",
    "ax.set_xlabel('Assinatura (meses)',size = 14)\n",
    "ax.set_title('Contrato de um ano',size = 14)\n",
    "\n",
    "ax = sns.distplot(dados[dados['TipoContrato']=='Two year']['AssinaturaMeses'],\n",
    "                   hist=True, kde=False,\n",
    "                   bins=int(180/5), color = 'green',\n",
    "                   hist_kws={'edgecolor':'black'},\n",
    "                   kde_kws={'linewidth': 4},\n",
    "                 ax=ax3)\n",
    "\n",
    "ax.set_xlabel('Assinatura (meses)')\n",
    "ax.set_title('Contrato de dois anos')"
   ]
  },
  {
   "cell_type": "code",
   "execution_count": null,
   "id": "eabfcff4",
   "metadata": {
    "scrolled": true
   },
   "outputs": [],
   "source": [
    "# Analisando o churn por Metodo de Pagamento\n",
    "contract_churn = dados.groupby(['MetodoPagamento', 'Churn']).size().unstack()\n",
    "contract_churn.plot(kind='bar', stacked=True)\n",
    "plt.xlabel('Metodo de Pagamento')\n",
    "plt.ylabel('Número de Clientes')\n",
    "plt.title('Churn por Metodo Pagamento')\n",
    "plt.show()"
   ]
  },
  {
   "cell_type": "code",
   "execution_count": null,
   "id": "98ae0900",
   "metadata": {},
   "outputs": [],
   "source": [
    "frequencia_metodopagamento = dados['MetodoPagamento'].value_counts()\n",
    "percentual_metodopagamento = dados['MetodoPagamento'].value_counts(normalize = True)*100\n",
    "percentual_metodopagamento = pd.DataFrame({'Frequência': frequencia_metodopagamento, 'Porcentagem(%)': percentual_metodopagamento})\n",
    "percentual_metodopagamento"
   ]
  },
  {
   "cell_type": "code",
   "execution_count": null,
   "id": "f1e8bda2",
   "metadata": {
    "scrolled": false
   },
   "outputs": [],
   "source": [
    "plt.figure(figsize=(8,6))\n",
    "sns.histplot(dados['CobrancasMensais'], bins=30, kde=True)\n",
    "plt.title('Cobranças Mensais')\n",
    "plt.xlabel('Valor Cobranças Mensais')\n",
    "plt.ylabel('Contagem')\n",
    "plt.show()"
   ]
  },
  {
   "cell_type": "code",
   "execution_count": null,
   "id": "d47f6b63",
   "metadata": {
    "scrolled": false
   },
   "outputs": [],
   "source": [
    "plt.figure(figsize=(8,6))\n",
    "sns.histplot(dados['CobrancasTotais'], bins=30, kde=True)\n",
    "plt.title('Cobranças Totais')\n",
    "plt.xlabel('Valor')\n",
    "plt.ylabel('Contagem')\n",
    "plt.show()"
   ]
  },
  {
   "cell_type": "code",
   "execution_count": null,
   "id": "27939615",
   "metadata": {},
   "outputs": [],
   "source": [
    "plt.figure(figsize=(8,6))\n",
    "sns.histplot(dados['PontuacaoChurn'], bins=30, kde=True)\n",
    "plt.title('PontuacaoChurn')\n",
    "plt.xlabel('Pontuação')\n",
    "plt.ylabel('Contagem')\n",
    "plt.show()"
   ]
  },
  {
   "cell_type": "code",
   "execution_count": null,
   "id": "aa0984e3",
   "metadata": {},
   "outputs": [],
   "source": [
    "plt.figure(figsize=(8,6))\n",
    "sns.histplot(dados['CLTV'], bins=30, kde=True)\n",
    "plt.title('CLTV')\n",
    "plt.xlabel('Valor')\n",
    "plt.ylabel('Contagem')\n",
    "plt.show()"
   ]
  },
  {
   "cell_type": "code",
   "execution_count": null,
   "id": "94c57593",
   "metadata": {},
   "outputs": [],
   "source": [
    "#dadoscorr = dados.drop('ValorChurn', axis=1, inplace=True)"
   ]
  },
  {
   "cell_type": "code",
   "execution_count": null,
   "id": "f9069ec3",
   "metadata": {},
   "outputs": [],
   "source": [
    "# criar a matriz de correlação\n",
    "corr_matrix = dados.corr()"
   ]
  },
  {
   "cell_type": "code",
   "execution_count": null,
   "id": "733dad3a",
   "metadata": {},
   "outputs": [],
   "source": [
    "# criar o heatmap\n",
    "plt.figure(figsize=(12,10))\n",
    "sns.heatmap(corr_matrix, annot=True, cmap='coolwarm',\n",
    "            fmt='.2f', linewidths=.05, annot_kws={\"size\": 12})\n",
    "plt.title('Correlação das variáveis com Churn')\n",
    "plt.xticks(rotation=45)\n",
    "plt.yticks(rotation=0)\n",
    "plt.show()"
   ]
  },
  {
   "cell_type": "code",
   "execution_count": null,
   "id": "6cd311e9",
   "metadata": {},
   "outputs": [],
   "source": [
    "dados.select_dtypes(include='int64').describe().round(2)"
   ]
  },
  {
   "cell_type": "code",
   "execution_count": null,
   "id": "01720b9f",
   "metadata": {},
   "outputs": [],
   "source": [
    "dados.select_dtypes(include='float64').describe().round(2)"
   ]
  },
  {
   "cell_type": "code",
   "execution_count": null,
   "id": "79328da8",
   "metadata": {
    "scrolled": true
   },
   "outputs": [],
   "source": [
    "sns.boxplot(dados['AssinaturaMeses'])"
   ]
  },
  {
   "cell_type": "code",
   "execution_count": null,
   "id": "d485045d",
   "metadata": {
    "scrolled": true
   },
   "outputs": [],
   "source": [
    "sns.boxplot(dados['PontuacaoChurn'])"
   ]
  },
  {
   "cell_type": "code",
   "execution_count": null,
   "id": "00aab0bb",
   "metadata": {},
   "outputs": [],
   "source": [
    "sns.boxplot(dados['CLTV'])"
   ]
  },
  {
   "cell_type": "code",
   "execution_count": null,
   "id": "68ecf928",
   "metadata": {
    "scrolled": true
   },
   "outputs": [],
   "source": [
    "sns.boxplot(dados['CobrancasMensais'])"
   ]
  },
  {
   "cell_type": "markdown",
   "id": "d72573bc",
   "metadata": {},
   "source": [
    "Concluo que não existem dados outliers analisando o gráfico boxplot para a variável 'Monthly Charges'."
   ]
  },
  {
   "cell_type": "markdown",
   "id": "0a7530d8",
   "metadata": {},
   "source": [
    "Também concluo que não existem dados outliers analisando o gráfico boxplot para a variável 'Total Charges'."
   ]
  },
  {
   "cell_type": "code",
   "execution_count": null,
   "id": "6dd205a3",
   "metadata": {
    "scrolled": true
   },
   "outputs": [],
   "source": [
    "sns.boxplot(dados['CobrancasTotais'])"
   ]
  },
  {
   "cell_type": "code",
   "execution_count": null,
   "id": "edaecc75",
   "metadata": {},
   "outputs": [],
   "source": [
    "sns.boxplot('Churn', 'CobrancasMensais', data=dados)"
   ]
  },
  {
   "cell_type": "code",
   "execution_count": null,
   "id": "ac537243",
   "metadata": {},
   "outputs": [],
   "source": [
    "# Agrupar os dados por Churn e calcular estatísticas descritivas para cada grupo\n",
    "stats = dados.groupby('Churn')['CobrancasMensais'].describe()\n",
    "\n",
    "# Imprimir tabela com as estatísticas\n",
    "print(stats)"
   ]
  },
  {
   "cell_type": "markdown",
   "id": "ea678e43",
   "metadata": {},
   "source": [
    "O valor mediano é superior nos clientes em Churn em relação aos Não Churn"
   ]
  },
  {
   "cell_type": "code",
   "execution_count": null,
   "id": "6f2c8d15",
   "metadata": {},
   "outputs": [],
   "source": [
    "# Criando uma nova variável para 'AssinaturaMeses' agrupando em classes, para melhor entendimento\n",
    "# 0 a 12 meses\n",
    "# 13 a 24 meses\n",
    "# 24 a 48 meses\n",
    "# 48 a 60 meses\n",
    "# 60 + meses\n",
    "classes = [0, 12, 24, 48, 60, 100]\n",
    "\n",
    "tenure = pd.cut(dados['AssinaturaMeses'], classes)\n",
    "\n",
    "pd.value_counts(tenure)"
   ]
  },
  {
   "cell_type": "code",
   "execution_count": null,
   "id": "99a2f6fc",
   "metadata": {},
   "outputs": [],
   "source": [
    "labels = ['0 a 12 meses', '13 a 24 meses', '24 a 48 meses', '48 a 60 meses', '60 meses +']"
   ]
  },
  {
   "cell_type": "code",
   "execution_count": null,
   "id": "2e9f1004",
   "metadata": {},
   "outputs": [],
   "source": [
    "tenure = pd.cut(dados['AssinaturaMeses'], classes, labels=labels)\n",
    "pd.value_counts(tenure)"
   ]
  },
  {
   "cell_type": "code",
   "execution_count": null,
   "id": "e52ddd89",
   "metadata": {},
   "outputs": [],
   "source": [
    "tenure = pd.cut(dados['AssinaturaMeses'], classes, labels=labels, include_lowest=True)\n",
    "pd.value_counts(tenure)"
   ]
  },
  {
   "cell_type": "code",
   "execution_count": null,
   "id": "ddcc58fb",
   "metadata": {
    "scrolled": true
   },
   "outputs": [],
   "source": [
    "# Faixas temporais de permanência no serviço\n",
    "dados['AssinaturaMeses'].value_counts().plot(kind='bar')"
   ]
  },
  {
   "cell_type": "code",
   "execution_count": null,
   "id": "089426ff",
   "metadata": {},
   "outputs": [],
   "source": [
    "# Justificativas dos clientes para sair do serviço\n",
    "dados['MotivoChurn'].value_counts().plot(kind='bar')"
   ]
  },
  {
   "cell_type": "code",
   "execution_count": null,
   "id": "226d7c3e",
   "metadata": {
    "scrolled": false
   },
   "outputs": [],
   "source": [
    "motivo_churn = (dados['MotivoChurn'].value_counts() / dados['MotivoChurn'].value_counts().sum() * 100).round(2)\n",
    "motivo_churn"
   ]
  },
  {
   "cell_type": "code",
   "execution_count": null,
   "id": "90b5be82",
   "metadata": {},
   "outputs": [],
   "source": [
    "print('Justificativa \\n',dados['MotivoChurn'].value_counts() / dados.shape[0] * 100)"
   ]
  },
  {
   "cell_type": "markdown",
   "id": "97ea44df",
   "metadata": {},
   "source": [
    "# 4. Preparação dos dados para modelos de machine learning"
   ]
  },
  {
   "cell_type": "code",
   "execution_count": null,
   "id": "e8325875",
   "metadata": {},
   "outputs": [],
   "source": [
    "dados.drop(['Churn'], inplace=True, axis=1)"
   ]
  },
  {
   "cell_type": "markdown",
   "id": "e5ae43e6",
   "metadata": {},
   "source": [
    "As variáveis categóricas devem ser transformadas em variáveis \"dummies\" para a aplicação no modelo de machine learning"
   ]
  },
  {
   "cell_type": "code",
   "execution_count": null,
   "id": "d16e1724",
   "metadata": {
    "scrolled": false
   },
   "outputs": [],
   "source": [
    "dados_dummies = pd.get_dummies(dados, columns=['Cidade'], prefix='Cidade')\n",
    "dados_dummies = pd.get_dummies(dados_dummies, columns=['Genero'], prefix='Genero')\n",
    "dados_dummies = pd.get_dummies(dados_dummies, columns=['Senior'], prefix='Senior')\n",
    "dados_dummies = pd.get_dummies(dados_dummies, columns=['Parceiro'], prefix='Parceiro')\n",
    "dados_dummies = pd.get_dummies(dados_dummies, columns=['Dependentes'], prefix='Dependentes')\n",
    "dados_dummies = pd.get_dummies(dados_dummies, columns=['ServicoTelefonia'], prefix='ServicoTelefonia')\n",
    "dados_dummies = pd.get_dummies(dados_dummies, columns=['MultiplasLinhas'], prefix='MultiplasLinhas')\n",
    "dados_dummies = pd.get_dummies(dados_dummies, columns=['ServicoInternet'], prefix='ServicoInternet')\n",
    "dados_dummies = pd.get_dummies(dados_dummies, columns=['SegurancaOnline'], prefix='SegurancaOnline')\n",
    "dados_dummies = pd.get_dummies(dados_dummies, columns=['BackupOnline'], prefix='BackupOnline')\n",
    "dados_dummies = pd.get_dummies(dados_dummies, columns=['ProtecaoDispositivo'], prefix='ProtecaoDispositivo')\n",
    "dados_dummies = pd.get_dummies(dados_dummies, columns=['SuporteTech'], prefix='SuporteTech')\n",
    "dados_dummies = pd.get_dummies(dados_dummies, columns=['StreamingTV'], prefix='StreamingTV')\n",
    "dados_dummies = pd.get_dummies(dados_dummies, columns=['StreamingFilmes'], prefix='StreamingFilmes')\n",
    "dados_dummies = pd.get_dummies(dados_dummies, columns=['TipoContrato'], prefix='TipoContrato')\n",
    "dados_dummies = pd.get_dummies(dados_dummies, columns=['FaturaSemPapel'], prefix='FaturaSemPapel')\n",
    "dados_dummies = pd.get_dummies(dados_dummies, columns=['MetodoPagamento'], prefix='MetodoPagamento')\n",
    "dados_dummies = pd.get_dummies(dados_dummies, columns=['MotivoChurn'], prefix='MotivoChurn')\n",
    "\n",
    "\n",
    "dados_dummies.head()"
   ]
  },
  {
   "cell_type": "code",
   "execution_count": null,
   "id": "0b016c40",
   "metadata": {
    "scrolled": true
   },
   "outputs": [],
   "source": [
    "# Ajustando o nome de cada variável, removendo espaços e adicionando 'underscore' no lugar\n",
    "dados_dummies.columns = [i.replace(' ', '_') for i in dados_dummies.columns]\n",
    "dados_dummies"
   ]
  },
  {
   "cell_type": "markdown",
   "id": "fe020409",
   "metadata": {},
   "source": [
    "# 5. Divisão dos dados em treino e teste"
   ]
  },
  {
   "cell_type": "markdown",
   "id": "6be4a87d",
   "metadata": {},
   "source": [
    "## Árvore de Decisão"
   ]
  },
  {
   "cell_type": "code",
   "execution_count": null,
   "id": "de27cf1f",
   "metadata": {},
   "outputs": [],
   "source": [
    "X = dados_dummies.drop('ValorChurn', axis=1)\n",
    "y = dados_dummies['ValorChurn']"
   ]
  },
  {
   "cell_type": "code",
   "execution_count": null,
   "id": "d5b0e1e9",
   "metadata": {},
   "outputs": [],
   "source": [
    "labels = y"
   ]
  },
  {
   "cell_type": "code",
   "execution_count": null,
   "id": "87c10bee",
   "metadata": {},
   "outputs": [],
   "source": [
    "X_train, X_test, y_train, y_test = train_test_split(X, y, stratify=y, shuffle=True, test_size=0.2, random_state=1)"
   ]
  },
  {
   "cell_type": "markdown",
   "id": "f4ec7ec8",
   "metadata": {},
   "source": [
    "# 6. Treinamento dos dados nos modelos de Machine Learning"
   ]
  },
  {
   "cell_type": "markdown",
   "id": "181284aa",
   "metadata": {},
   "source": [
    "## Modelo 1 - Sem ajustes"
   ]
  },
  {
   "cell_type": "code",
   "execution_count": null,
   "id": "5d5ae8b2",
   "metadata": {},
   "outputs": [],
   "source": [
    "modelo1 = DecisionTreeClassifier(max_depth=7,\n",
    "                                 max_features=None,\n",
    "                                 criterion='entropy',\n",
    "                                 min_samples_leaf=1,\n",
    "                                 min_samples_split=2,\n",
    "                                 random_state=1)"
   ]
  },
  {
   "cell_type": "code",
   "execution_count": null,
   "id": "8c0d30d1",
   "metadata": {
    "scrolled": false
   },
   "outputs": [],
   "source": [
    "modelo1.fit(X_train, y_train)"
   ]
  },
  {
   "cell_type": "code",
   "execution_count": null,
   "id": "fd0a5afd",
   "metadata": {
    "scrolled": true
   },
   "outputs": [],
   "source": [
    "print(\"Accuracy on training set: {:.3f}\".format(modelo1.score(X_train, y_train)))\n",
    "print(\"Accuracy on test set: {:.3f}\".format(modelo1.score(X_test, y_test)))"
   ]
  },
  {
   "cell_type": "code",
   "execution_count": null,
   "id": "e068b231",
   "metadata": {},
   "outputs": [],
   "source": [
    "dot_data = export_graphviz(modelo1, out_file=None,\n",
    "                           class_names=[\"não churn\", \"churn\"],\n",
    "                           feature_names= X.columns.tolist(),\n",
    "                           impurity=False, \n",
    "                           filled=True, rounded=True,\n",
    "                           special_characters=True)"
   ]
  },
  {
   "cell_type": "code",
   "execution_count": null,
   "id": "d319a5e1",
   "metadata": {},
   "outputs": [],
   "source": [
    "graphviz.Source(dot_data)"
   ]
  },
  {
   "cell_type": "code",
   "execution_count": null,
   "id": "d8ba2f26",
   "metadata": {},
   "outputs": [],
   "source": [
    "export_graphviz(modelo1, out_file=\"modelo1.dot\", class_names=[\"nao churn\", \"churn\"],\n",
    "               impurity=False, filled=True)"
   ]
  },
  {
   "cell_type": "code",
   "execution_count": null,
   "id": "37ceb953",
   "metadata": {
    "scrolled": false
   },
   "outputs": [],
   "source": [
    "import graphviz\n",
    "with open(\"modelo1.dot\") as f:\n",
    "    dot_graph = f.read()\n",
    "graphviz.Source(dot_graph)"
   ]
  },
  {
   "cell_type": "markdown",
   "id": "c706a499",
   "metadata": {},
   "source": [
    "## Modelo 2 - Com ajustes"
   ]
  },
  {
   "cell_type": "code",
   "execution_count": null,
   "id": "03f53db9",
   "metadata": {},
   "outputs": [],
   "source": [
    "modelo2 = DecisionTreeClassifier(max_depth=4,\n",
    "                                 max_features=None,\n",
    "                                 criterion='entropy',\n",
    "                                 min_samples_leaf=1,\n",
    "                                 min_samples_split=2,\n",
    "                                 random_state=1)"
   ]
  },
  {
   "cell_type": "code",
   "execution_count": null,
   "id": "c31f4f01",
   "metadata": {},
   "outputs": [],
   "source": [
    "modelo2.fit(X_train, y_train)"
   ]
  },
  {
   "cell_type": "code",
   "execution_count": null,
   "id": "d32d3d97",
   "metadata": {},
   "outputs": [],
   "source": [
    "print(\"Accuracy on training set: {:.4f}\".format(modelo2.score(X_train, y_train)))\n",
    "print(\"Accuracy on test set: {:.4f}\".format(modelo2.score(X_test, y_test)))"
   ]
  },
  {
   "cell_type": "code",
   "execution_count": null,
   "id": "59731bdd",
   "metadata": {},
   "outputs": [],
   "source": [
    "export_graphviz(modelo2, out_file=\"modelo2.dot\", class_names=[\"não churn\", \"churn\"],\n",
    "               impurity=False, filled=True)"
   ]
  },
  {
   "cell_type": "code",
   "execution_count": null,
   "id": "a0910a53",
   "metadata": {},
   "outputs": [],
   "source": [
    "import graphviz\n",
    "with open(\"modelo2.dot\") as f:\n",
    "    dot_graph = f.read()\n",
    "graphviz.Source(dot_graph)"
   ]
  },
  {
   "cell_type": "code",
   "execution_count": null,
   "id": "d65949a6",
   "metadata": {},
   "outputs": [],
   "source": [
    "print(\"Feature importances:\\n{}\".format(modelo1.feature_importances_))"
   ]
  },
  {
   "cell_type": "markdown",
   "id": "aa3d05fb",
   "metadata": {},
   "source": [
    "## Random Forest"
   ]
  },
  {
   "cell_type": "code",
   "execution_count": null,
   "id": "534d0677",
   "metadata": {},
   "outputs": [],
   "source": [
    "rf = RandomForestClassifier(n_estimators=5, random_state=2)\n",
    "y_pred_rf = rf.fit(X_train, y_train)"
   ]
  },
  {
   "cell_type": "code",
   "execution_count": null,
   "id": "3cfdac9c",
   "metadata": {
    "scrolled": true
   },
   "outputs": [],
   "source": [
    "print(\"Acuracidade nos dados de treino: {:.4f}\".format(rf.score(X_train, y_train)))\n",
    "print(\"Acuracidade nos dados de teste: {:.4f}\".format(rf.score(X_test, y_test)))"
   ]
  },
  {
   "cell_type": "code",
   "execution_count": null,
   "id": "53fe70ff",
   "metadata": {},
   "outputs": [],
   "source": [
    "# Definir o método de validação cruzada\n",
    "cv = KFold(n_splits=5, shuffle=True, random_state=42)\n",
    "scores = cross_val_score(rf, X, y, cv=cv, scoring='accuracy')\n",
    "print('Acurácia média:', scores.mean())"
   ]
  },
  {
   "cell_type": "markdown",
   "id": "417f27bb",
   "metadata": {},
   "source": [
    "# XGBoost"
   ]
  },
  {
   "cell_type": "code",
   "execution_count": null,
   "id": "fbdfd701",
   "metadata": {},
   "outputs": [],
   "source": [
    "xgb = XGBClassifier(random_state=2)\n",
    "y_pred_xgb = xgb.fit(X_train, y_train)"
   ]
  },
  {
   "cell_type": "code",
   "execution_count": null,
   "id": "648f6120",
   "metadata": {},
   "outputs": [],
   "source": [
    "print(\"Acuracidade nos dados de treino: {:.4f}\".format(xgb.score(X_train, y_train)))\n",
    "print(\"Acuracidade nos dados de teste: {:.4f}\".format(xgb.score(X_test, y_test)))"
   ]
  },
  {
   "cell_type": "markdown",
   "id": "79825809",
   "metadata": {},
   "source": [
    "## Regressão Logística"
   ]
  },
  {
   "cell_type": "code",
   "execution_count": null,
   "id": "5c6ee915",
   "metadata": {},
   "outputs": [],
   "source": [
    "rl = LogisticRegression(random_state=2)\n",
    "y_pred_rl = rl.fit(X_train, y_train)"
   ]
  },
  {
   "cell_type": "code",
   "execution_count": null,
   "id": "76439f57",
   "metadata": {},
   "outputs": [],
   "source": [
    "rfe = RFE(rl, n_features_to_select=1)\n",
    "rfe.fit(X, y)"
   ]
  },
  {
   "cell_type": "code",
   "execution_count": null,
   "id": "50304e03",
   "metadata": {},
   "outputs": [],
   "source": [
    "# Calcular a probabilidade de classificação no conjunto de teste\n",
    "probabilidades = rl.predict_proba(X_test)[:, 1]"
   ]
  },
  {
   "cell_type": "code",
   "execution_count": null,
   "id": "a6196aa9",
   "metadata": {},
   "outputs": [],
   "source": [
    "# Calcular a curva ROC e a área sob a curva (AUC)\n",
    "fpr, tpr, limiares = roc_curve(y_test, probabilidades)\n",
    "roc_auc = auc(fpr, tpr)"
   ]
  },
  {
   "cell_type": "code",
   "execution_count": null,
   "id": "7781b389",
   "metadata": {},
   "outputs": [],
   "source": [
    "print(\"Acuracidade nos dados de treino: {:.4f}\".format(rl.score(X_train, y_train)))\n",
    "print(\"Acuracidade nos dados de teste: {:.4f}\".format(rl.score(X_test, y_test)))"
   ]
  },
  {
   "cell_type": "markdown",
   "id": "4b78d054",
   "metadata": {},
   "source": [
    "## Lazy Predict"
   ]
  },
  {
   "cell_type": "code",
   "execution_count": null,
   "id": "27ea8869",
   "metadata": {},
   "outputs": [],
   "source": [
    "# lazy predict\n",
    "clf = LazyClassifier(verbose=0,ignore_warnings=True, custom_metric=None)\n",
    "models_train,predictions_train = clf.fit(X_train, X_train, y_train, y_train)\n",
    "models_test,predictions_test = clf.fit(X_train, X_test, y_train, y_test)\n",
    "\n",
    "# performance dos modelos\n",
    "models_train"
   ]
  },
  {
   "cell_type": "markdown",
   "id": "0f19078d",
   "metadata": {},
   "source": [
    "# 7. Avaliação de performance dos modelos"
   ]
  },
  {
   "cell_type": "code",
   "execution_count": null,
   "id": "fbef7574",
   "metadata": {},
   "outputs": [],
   "source": [
    "#ideias para avaliação\n",
    "#acuracia\n",
    "#f1\n",
    "#recall\n",
    "#auc roc\n",
    "#confusion matrix\n",
    "# MAE\n",
    "# Cross Validation"
   ]
  },
  {
   "cell_type": "code",
   "execution_count": null,
   "id": "171192aa",
   "metadata": {},
   "outputs": [],
   "source": [
    "#Árvore de Decisão - Sem ajuste\n",
    "print(\"Accuracy on training set: {:.3f}\".format(modelo1.score(X_train, y_train)))\n",
    "print(\"Accuracy on test set: {:.3f}\".format(modelo1.score(X_test, y_test)))"
   ]
  },
  {
   "cell_type": "code",
   "execution_count": null,
   "id": "341f8631",
   "metadata": {},
   "outputs": [],
   "source": [
    "#Árvore de Decisão - Com ajuste\n",
    "print(\"Accuracy on training set: {:.4f}\".format(modelo2.score(X_train, y_train)))\n",
    "print(\"Accuracy on test set: {:.4f}\".format(modelo2.score(X_test, y_test)))"
   ]
  },
  {
   "cell_type": "code",
   "execution_count": null,
   "id": "37d17339",
   "metadata": {},
   "outputs": [],
   "source": [
    "#Random Forest\n",
    "print(\"Acuracidade nos dados de treino: {:.4f}\".format(rf.score(X_train, y_train)))\n",
    "print(\"Acuracidade nos dados de teste: {:.4f}\".format(rf.score(X_test, y_test)))"
   ]
  },
  {
   "cell_type": "code",
   "execution_count": null,
   "id": "8bcd9f36",
   "metadata": {},
   "outputs": [],
   "source": [
    "#XGBoost\n",
    "print(\"Acuracidade nos dados de treino: {:.4f}\".format(xgb.score(X_train, y_train)))\n",
    "print(\"Acuracidade nos dados de teste: {:.4f}\".format(xgb.score(X_test, y_test)))"
   ]
  },
  {
   "cell_type": "code",
   "execution_count": null,
   "id": "6022a96b",
   "metadata": {},
   "outputs": [],
   "source": [
    "#Regressão Logística\n",
    "print(\"Acuracidade nos dados de treino: {:.4f}\".format(rl.score(X_train, y_train)))\n",
    "print(\"Acuracidade nos dados de teste: {:.4f}\".format(rl.score(X_test, y_test)))"
   ]
  },
  {
   "cell_type": "code",
   "execution_count": null,
   "id": "9bebc315",
   "metadata": {},
   "outputs": [],
   "source": [
    "# Analisando o churn por categoria de contrato\n",
    "contract_churn = telco_data.groupby(['Contract', 'Churn']).size().unstack()\n",
    "contract_churn.plot(kind='bar', stacked=True)\n",
    "plt.xlabel('Tipo de Contrato')\n",
    "plt.ylabel('Número de Clientes')\n",
    "plt.title('Churn por Tipo de Contrato')\n",
    "plt.show()"
   ]
  }
 ],
 "metadata": {
  "kernelspec": {
   "display_name": "Python 3 (ipykernel)",
   "language": "python",
   "name": "python3"
  },
  "language_info": {
   "codemirror_mode": {
    "name": "ipython",
    "version": 3
   },
   "file_extension": ".py",
   "mimetype": "text/x-python",
   "name": "python",
   "nbconvert_exporter": "python",
   "pygments_lexer": "ipython3",
   "version": "3.10.2"
  }
 },
 "nbformat": 4,
 "nbformat_minor": 5
}
